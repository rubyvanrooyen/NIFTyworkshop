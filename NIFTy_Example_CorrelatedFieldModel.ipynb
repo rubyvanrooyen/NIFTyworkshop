{
  "nbformat": 4,
  "nbformat_minor": 0,
  "metadata": {
    "colab": {
      "name": "NIFTy_Example_CorrelatedFieldModel.ipynb",
      "provenance": [],
      "private_outputs": true,
      "authorship_tag": "ABX9TyMZvL9RY/v4b7Zdp+138vpj",
      "include_colab_link": true
    },
    "kernelspec": {
      "name": "python3",
      "display_name": "Python 3"
    }
  },
  "cells": [
    {
      "cell_type": "markdown",
      "metadata": {
        "id": "view-in-github",
        "colab_type": "text"
      },
      "source": [
        "<a href=\"https://colab.research.google.com/github/rubyvanrooyen/NIFTyworkshop/blob/master/NIFTy_Example_CorrelatedFieldModel.ipynb\" target=\"_parent\"><img src=\"https://colab.research.google.com/assets/colab-badge.svg\" alt=\"Open In Colab\"/></a>"
      ]
    },
    {
      "cell_type": "code",
      "metadata": {
        "id": "Tb_N9qas57gY",
        "colab_type": "code",
        "colab": {}
      },
      "source": [
        "!git clone -b NIFTy_6 --single-branch https://gitlab.mpcdf.mpg.de/ift/nifty.git\n",
        "!pip install ./nifty"
      ],
      "execution_count": null,
      "outputs": []
    },
    {
      "cell_type": "code",
      "metadata": {
        "id": "5kmxiCGU8jho",
        "colab_type": "code",
        "colab": {}
      },
      "source": [
        "import nifty6 as ift\n",
        "import numpy\n",
        "import numpy as np\n",
        "from matplotlib import pylab"
      ],
      "execution_count": null,
      "outputs": []
    },
    {
      "cell_type": "code",
      "metadata": {
        "id": "am6IDvac57Tg",
        "colab_type": "code",
        "colab": {}
      },
      "source": [
        "# we model the power spectrum as a field\n",
        "# -- learn the power spectrum alongside with the actual field\n",
        "N_pixels = 512     # Number of pixels\n",
        "position_space = ift.RGSpace([N_pixels])"
      ],
      "execution_count": null,
      "outputs": []
    },
    {
      "cell_type": "code",
      "metadata": {
        "id": "PTUPhWYt57Hz",
        "colab_type": "code",
        "colab": {}
      },
      "source": [
        "# set up\n",
        "# see model notebook 'getting_started_4_CorrelatedFields.ipynb' for number selection\n",
        "\n",
        "cfmaker = ift.CorrelatedFieldMaker.make(\n",
        "        offset_mean =      0.0,  # 0.\n",
        "        offset_std_mean = 1e-3,  # 1e-3\n",
        "        offset_std_std =  1e-6,  # 1e-6\n",
        "        prefix = '')\n",
        "\n",
        "fluctuations_dict = {\n",
        "    # Amplitude of field fluctuations\n",
        "    'fluctuations_mean':   2.0,  # 1.0\n",
        "    'fluctuations_stddev': 1.0,  # 1e-2\n",
        "\n",
        "    # Exponent of power law power spectrum component\n",
        "    'loglogavgslope_mean': -2.0,  # -3.0\n",
        "    'loglogavgslope_stddev': 0.5,  #  0.5\n",
        "\n",
        "    # Amplitude of integrated Wiener process power spectrum component\n",
        "    'flexibility_mean':   2.5,  # 1.0\n",
        "    'flexibility_stddev': 1.0,  # 0.5\n",
        "\n",
        "    # How ragged the integrated Wiener process component is\n",
        "    'asperity_mean':   0.5,  # 0.1\n",
        "    'asperity_stddev': 0.5  # 0.5\n",
        "}\n",
        "cfmaker.add_fluctuations(position_space, **fluctuations_dict)\n",
        "# nifty operator that gives out these fields\n",
        "correlated_field = cfmaker.finalize()"
      ],
      "execution_count": null,
      "outputs": []
    },
    {
      "cell_type": "code",
      "metadata": {
        "id": "h_9ezWAH57B1",
        "colab_type": "code",
        "colab": {}
      },
      "source": [
        "# feed it some random gaussian noise\n",
        "main_sample = ift.from_random(correlated_field.domain)\n",
        "print(\"model domain keys:\", correlated_field.domain.keys())\n",
        "# look at some prior samples\n",
        "plot = ift.Plot()\n",
        "plot.add(correlated_field(main_sample))\n",
        "plot.output()"
      ],
      "execution_count": null,
      "outputs": []
    },
    {
      "cell_type": "code",
      "metadata": {
        "id": "uoH0X0TS565V",
        "colab_type": "code",
        "colab": {}
      },
      "source": [
        "# look at the power spectrum\n",
        "A = cfmaker.amplitude\n",
        "# print(A.domain)\n",
        "# power spectrum is square of amplitude\n",
        "pspec = A**2\n",
        "# print(pspec.domain)\n",
        "\n",
        "# plot the power spectrum options\n",
        "plot = ift.Plot()\n",
        "plot.add([pspec(ift.from_random(pspec.domain)) for _ in range(20)])\n",
        "plot.output()"
      ],
      "execution_count": null,
      "outputs": []
    },
    {
      "cell_type": "code",
      "metadata": {
        "id": "XCSd5iNgDApM",
        "colab_type": "code",
        "colab": {}
      },
      "source": [
        "# sigmoid function to define the signal\n",
        "# -- applies sigmoid non-linearity to the operator\n",
        "signal = ift.sigmoid(correlated_field)"
      ],
      "execution_count": null,
      "outputs": []
    },
    {
      "cell_type": "code",
      "metadata": {
        "id": "koHr2fqWETxH",
        "colab_type": "code",
        "colab": {}
      },
      "source": [
        "# Build the line-of-sight response and define signal response\n",
        "## set up response function -- using line of sight response\n",
        "# LOS inputs are random and need to be lists\n",
        "\n",
        "## random line-of-sight response\n",
        "# rng == random number generator\n",
        "n_los=100\n",
        "LOS_starts = list(ift.random.current_rng().random((n_los, 1)).T)\n",
        "LOS_ends = list(ift.random.current_rng().random((n_los, 1)).T)\n",
        "\n",
        "# ## radial lines of sight\n",
        "# LOS_starts = list(ift.random.current_rng().random((n_los, 1)).T)\n",
        "# LOS_ends = list(0.5 + 0*ift.random.current_rng().random((n_los, 1)).T)\n",
        "\n",
        "# LOSResponse(position_space (domain), los_starts, los_ends (start and ending values))\n",
        "R = ift.LOSResponse(position_space, starts=LOS_starts, ends=LOS_ends)\n",
        "print(R)\n",
        "print(R.target)\n",
        "# visualise where the lines of sight are located (randomly distributed)\n",
        "ift.single_plot(R.adjoint(ift.full(R.target, 1.)))\n",
        "\n",
        "# signal_respones == signal followed by the response = R(signal) = R @ signal\n",
        "signal_response = R(signal)\n",
        "data_space = R.target"
      ],
      "execution_count": null,
      "outputs": []
    },
    {
      "cell_type": "code",
      "metadata": {
        "id": "X6OJmz8WKlGQ",
        "colab_type": "code",
        "colab": {}
      },
      "source": [
        "# need to specify some noise\n",
        "noisevar = 0.01\n",
        "N = ift.ScalingOperator(data_space, noisevar)\n",
        "noise = N.draw_sample_with_dtype(np.float64)"
      ],
      "execution_count": null,
      "outputs": []
    },
    {
      "cell_type": "code",
      "metadata": {
        "id": "ckG9UQt2Na8X",
        "colab_type": "code",
        "colab": {}
      },
      "source": [
        "# need to specify noiseless data\n",
        "print(signal.domain)\n",
        "print(signal_response.domain)\n",
        "# what is the difference between the signal and the signal_response\n",
        "\n",
        "mock_position = ift.from_random(signal.domain, 'normal')\n",
        "noiseless_data = signal_response(mock_position)\n",
        "# Generate mock signal and data\n",
        "data = noiseless_data + noise\n",
        "#print(data)"
      ],
      "execution_count": null,
      "outputs": []
    },
    {
      "cell_type": "code",
      "metadata": {
        "id": "xbDQx2wJOquM",
        "colab_type": "code",
        "colab": {}
      },
      "source": [
        "# set up the likelihood domain and target\n",
        "## N the covariance matrix\n",
        "# GaussianEnergy(mean=data, inverse_covariance=N.inverse) @ (R @ signal)\n",
        "likelihood = (ift.GaussianEnergy(mean=data, inverse_covariance=N.inverse) @ signal_response)\n",
        "# likelihood energy = negative logarithms of a propability density (=info hamiltonian)"
      ],
      "execution_count": null,
      "outputs": []
    },
    {
      "cell_type": "code",
      "metadata": {
        "id": "bRX-aSFnP9dR",
        "colab_type": "code",
        "colab": {}
      },
      "source": [
        "# define hamiltonian\n",
        "# needs to know how to draw the samples (this has to be approximated as well)\n",
        "#ic_sampling = ift.AbsDeltaEnergyController(name='Sampling', deltaE=0.05, iteration_limit=100)\n",
        "ic_sampling = ift.AbsDeltaEnergyController(deltaE=0.05, iteration_limit=100)\n",
        "H = ift.StandardHamiltonian(likelihood, ic_sampling)"
      ],
      "execution_count": null,
      "outputs": []
    },
    {
      "cell_type": "code",
      "metadata": {
        "id": "2E8vbE9LQ4f8",
        "colab_type": "code",
        "colab": {}
      },
      "source": [
        "# drawing MGVI samples means running one wiener filter, needs a conjugate_gradient run\n",
        "# initialise the minimization\n",
        "initial_mean = ift.MultiField.full(H.domain, 0.)\n",
        "# alternatively: initial_mean = 0.1 * ift.from_random(H.domain)"
      ],
      "execution_count": null,
      "outputs": []
    },
    {
      "cell_type": "code",
      "metadata": {
        "id": "lOIqy3eC56t9",
        "colab_type": "code",
        "colab": {}
      },
      "source": [
        "# plot to see what is going on -- look at the signal \n",
        "plot = ift.Plot()\n",
        "plot.add(signal(mock_position), title='Ground Truth')\n",
        "# information source == (R.ajoint @ N.inverse)(data)\n",
        "plot.add(R.adjoint_times(data), title='Data')\n",
        "# A.force(mock_position) -- force ground truth power spectrum dimensions\n",
        "plot.add([A.force(mock_position)], title='Amplitude')\n",
        "plot.output(ny=1, nx=3, xsize=24, ysize=6)"
      ],
      "execution_count": null,
      "outputs": []
    },
    {
      "cell_type": "code",
      "metadata": {
        "id": "KjXCW9-wSnRm",
        "colab_type": "code",
        "colab": {}
      },
      "source": [
        "# Loop section\n",
        "## draws KL samples during initialisation and return an Energy (MetricGaussianKL)\n",
        "## this energy is then minimised using a minimisation algo\n",
        "\n",
        "# define minimiser\n",
        "#ic_newton = ift.AbsDeltaEnergyController(name='Newton', deltaE=0.5, iteration_limit=35)\n",
        "ic_newton = ift.AbsDeltaEnergyController(deltaE=0.5, iteration_limit=35)\n",
        "minimizer = ift.NewtonCG(ic_newton)\n",
        "# add name='Newton' to minimiser if you want to watch it minimizing\n",
        "# perhaps start with ieteration limit = 10 (35 is at higher end)\n",
        "\n",
        "# number of samples used to estimate the KL\n",
        "N_samples = 20\n",
        "# N_samples == number of lines to sample the propability mask\n",
        "\n",
        "mean = initial_mean\n",
        "# Draw new samples to approximate the KL five times\n",
        "for i in range(5):\n",
        "\n",
        "    # Draw new samples and minimize KL\n",
        "    KL = ift.MetricGaussianKL(mean, H, N_samples)\n",
        "    # The N_samples are random samples and drawn from Gaussian probability distribution\n",
        "    # -- Gaus approx to current mean position that we are updating\n",
        "    #    (the local approximation of the true posterior distribution)\n",
        "\n",
        "    # minimiser gives out new KL object and error\n",
        "    KL, convergence = minimizer(KL)\n",
        "    # update the mean to a new mean position = KL.position\n",
        "    mean = KL.position\n",
        "\n",
        "    # Plot current reconstruction\n",
        "    plot = ift.Plot()\n",
        "    plot.add(signal(KL.position), title=\"Latent mean\")\n",
        "    plot.add([A.force(KL.position + ss) for ss in KL.samples],\n",
        "                title=\"Samples power spectrum\")\n",
        "    plot.output(ny=1, ysize=6, xsize=16)"
      ],
      "execution_count": null,
      "outputs": []
    },
    {
      "cell_type": "code",
      "metadata": {
        "id": "wetnHPLlrTvA",
        "colab_type": "code",
        "colab": {}
      },
      "source": [
        "# add some posterior analysis and draw new smaples\n",
        "KL = ift.MetricGaussianKL(mean, H, N_samples)\n",
        "# operator to calculate running mean\n",
        "sc = ift.StatCalculator()\n",
        "# draw posterior samples\n",
        "for sample in KL.samples:\n",
        "    sc.add(signal(sample + KL.position))"
      ],
      "execution_count": null,
      "outputs": []
    },
    {
      "cell_type": "code",
      "metadata": {
        "id": "zcZ5_QYJSl-n",
        "colab_type": "code",
        "colab": {}
      },
      "source": [
        "# plot the posterior mean (sc.mean)\n",
        "# and look at the standard deviation (sc.var)\n",
        "plot = ift.Plot()\n",
        "plot.add(sc.mean, title=\"Posterior Mean\")\n",
        "plot.add(ift.sqrt(sc.var), title=\"Posterior Standard Deviation\")\n",
        "plot.output()"
      ],
      "execution_count": null,
      "outputs": []
    },
    {
      "cell_type": "code",
      "metadata": {
        "id": "ijcspZNDIb1F",
        "colab_type": "code",
        "colab": {}
      },
      "source": [
        "plot = ift.Plot()\n",
        "plot.add(sc.mean, title=\"Posterior Mean\")\n",
        "plot.add(ift.sqrt(sc.var), title=\"Posterior Standard Deviation\")\n",
        "\n",
        "powers = [A.force(s + KL.position) for s in KL.samples]\n",
        "plot.add(\n",
        "    powers + [A.force(mock_position),\n",
        "              A.force(KL.position)],\n",
        "    title=\"Sampled Posterior Power Spectrum\",\n",
        "    linewidth=[1.]*len(powers) + [3., 3.])\n",
        "plot.output(ny=1, nx=3, xsize=24, ysize=6)"
      ],
      "execution_count": null,
      "outputs": []
    },
    {
      "cell_type": "code",
      "metadata": {
        "id": "Pb7zsxj8uW48",
        "colab_type": "code",
        "colab": {}
      },
      "source": [
        "# what are the differences between the various implementations\n",
        "# -- how does the mappings work?\n",
        "\n",
        "# Get signal data and reconstruction data\n",
        "# recontruct and compare\n",
        "fig, (ax0, ax1, ax2) = pylab.subplots(3, 1, figsize=(15, 7), facecolor='white')\n",
        "# corrupt measured signal\n",
        "ax0.plot(data.val, 'k.-', label=\"Data\")\n",
        "ax0.legend()\n",
        "\n",
        "ax1.plot(data.val, 'k.', label=\"Data\")\n",
        "# ground truth\n",
        "ax1.plot(signal_response(mock_position).val, label='Ground Truth')\n",
        "# R(m) posterior mean -- recontructed signal\n",
        "ax1.plot(signal_response(KL.position).val, 'k', label=\"Reconstruction\")\n",
        "ax1.legend()\n",
        "\n",
        "ax2.plot(R.adjoint_times(data).val, 'k.', label=\"Data(?)\")\n",
        "ax2.plot(signal(mock_position).val, label='Ground Truth(?)')\n",
        "ax2.plot(sc.mean.val, label='Reconstruction(?)')\n",
        "ax2.plot(signal(KL.position).val, label=\"Reconstruction(?)\")\n",
        "ax2.legend()\n",
        "\n",
        "pylab.show()"
      ],
      "execution_count": null,
      "outputs": []
    },
    {
      "cell_type": "code",
      "metadata": {
        "id": "D6PbjRBIvgZS",
        "colab_type": "code",
        "colab": {}
      },
      "source": [
        ""
      ],
      "execution_count": null,
      "outputs": []
    }
  ]
}