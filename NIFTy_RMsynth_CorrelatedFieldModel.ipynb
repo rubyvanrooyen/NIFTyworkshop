{
  "nbformat": 4,
  "nbformat_minor": 0,
  "metadata": {
    "colab": {
      "name": "NIFTy_RMsynth_CorrelatedFieldModel.ipynb",
      "provenance": [],
      "authorship_tag": "ABX9TyOIsy8PkOlrVQsN3CpzlFrO",
      "include_colab_link": true
    },
    "kernelspec": {
      "name": "python3",
      "display_name": "Python 3"
    }
  },
  "cells": [
    {
      "cell_type": "markdown",
      "metadata": {
        "id": "view-in-github",
        "colab_type": "text"
      },
      "source": [
        "<a href=\"https://colab.research.google.com/github/rubyvanrooyen/NIFTyworkshop/blob/master/NIFTy_RMsynth_CorrelatedFieldModel.ipynb\" target=\"_parent\"><img src=\"https://colab.research.google.com/assets/colab-badge.svg\" alt=\"Open In Colab\"/></a>"
      ]
    },
    {
      "cell_type": "code",
      "metadata": {
        "id": "rkeKahGLMa2t",
        "colab_type": "code",
        "colab": {}
      },
      "source": [
        "!git clone -b NIFTy_7 --single-branch https://gitlab.mpcdf.mpg.de/ift/nifty.git\n",
        "!pip install ./nifty"
      ],
      "execution_count": null,
      "outputs": []
    },
    {
      "cell_type": "code",
      "metadata": {
        "id": "88-F_y1yVbNt",
        "colab_type": "code",
        "colab": {}
      },
      "source": [
        "!git clone https://github.com/rubyvanrooyen/NIFTyworkshop.git\n",
        "!ln -s NIFTyworkshop/faraday_response.py"
      ],
      "execution_count": null,
      "outputs": []
    },
    {
      "cell_type": "code",
      "metadata": {
        "id": "p7ZDzCuDSWQn",
        "colab_type": "code",
        "colab": {}
      },
      "source": [
        "import nifty7 as ift\n",
        "import numpy\n",
        "import numpy as np\n",
        "from matplotlib import pylab\n",
        "\n",
        "# Philipp's NFFT operator to calculate RMTF\n",
        "import faraday_response"
      ],
      "execution_count": null,
      "outputs": []
    },
    {
      "cell_type": "code",
      "metadata": {
        "id": "DL3RWrCKSgvy",
        "colab_type": "code",
        "colab": {}
      },
      "source": [
        "def faraday_synthesis(x, pol, phi_range):\n",
        "    f = numpy.zeros(len(phi_range), dtype=complex)\n",
        "\n",
        "    N = len(x)\n",
        "    xmean = x.mean()\n",
        "\n",
        "    for k, phi in enumerate(phi_range):\n",
        "        f[k] = numpy.sum(pol * numpy.exp(-2j * phi * x ))/N\n",
        "                    \n",
        "    return f"
      ],
      "execution_count": null,
      "outputs": []
    },
    {
      "cell_type": "code",
      "metadata": {
        "id": "L5kaugj7WUEx",
        "colab_type": "code",
        "colab": {}
      },
      "source": [
        "import io\n",
        "import requests\n",
        "# example input signal (1D with power spectrum)\n",
        "url='https://raw.githubusercontent.com/rubyvanrooyen/NIFTyworkshop/master/PDATA-RMSYN-1.TXT'\n",
        "res = requests.get(url)\n",
        "f = io.StringIO(res.text)\n",
        "data = f.readlines()\n",
        "\n",
        "# four columns in each file: frequencies in  Hz, Stokes Q , Stokes U and Stokes I in Jansky per beam\n",
        "freq_hz = []\n",
        "stokes_q = []\n",
        "stokes_u = []\n",
        "stokes_i = []\n",
        "for line in data:\n",
        "    [freq, q, u, i] = line.strip().split()\n",
        "    freq_hz.append(freq)\n",
        "    stokes_q.append(q)\n",
        "    stokes_u.append(u)\n",
        "    stokes_i.append(i)\n",
        "freq_hz = np.array(freq_hz, dtype=float)\n",
        "stokes_q = np.array(stokes_q, dtype=float)\n",
        "stokes_u = np.array(stokes_u, dtype=float)\n",
        "stokes_i = np.array(stokes_i, dtype=float)\n",
        "\n",
        "# fractional polarisation\n",
        "# P = pI = Q + iU\n",
        "Pcorr = stokes_q + 1j*stokes_u\n",
        "p = Pcorr/stokes_i\n",
        "\n",
        "# c = Speed of Light (299,792,458 m/s)\n",
        "# define lambda^2\n",
        "lamsq = (3.0e8/freq_hz)**2  # m^2"
      ],
      "execution_count": null,
      "outputs": []
    },
    {
      "cell_type": "code",
      "metadata": {
        "id": "h2bSVzQYej3W",
        "colab_type": "code",
        "colab": {}
      },
      "source": [
        "phi_max = 10000\n",
        "phi_min = -phi_max\n",
        "d_phi = (phi_max - phi_min)/float(len(p))\n",
        "phi_range = numpy.arange(phi_min, phi_max, d_phi)\n",
        "\n",
        "# dirty spectrum calculation\n",
        "f = faraday_synthesis(lamsq, p, phi_range)"
      ],
      "execution_count": null,
      "outputs": []
    },
    {
      "cell_type": "code",
      "metadata": {
        "id": "BcL30lBWdlSF",
        "colab_type": "code",
        "colab": {}
      },
      "source": [
        "# plot data (p)\n",
        "fig, (ax0, ax1) = pylab.subplots(nrows=1, ncols=2, figsize=(15, 7), facecolor='white')\n",
        "ax0.plot(lamsq, numpy.absolute(p), 'g-', label='amp', lw=1)\n",
        "ax0.plot(lamsq, numpy.real(p), 'r-', label='real', lw=1)\n",
        "ax0.plot(lamsq, numpy.imag(p), 'b-.', label='imag', lw=1)\n",
        "ax0.set_xlabel(r'Wavelength [m$^2$]')\n",
        "ax0.set_ylabel(r'Fractional polarisation')\n",
        "ax0.legend(loc=0)\n",
        "\n",
        "ax1.plot(phi_range, numpy.absolute(f), 'g-', label='amp', lw=1)\n",
        "ax1.plot(phi_range, numpy.real(f), 'r-', label='real', lw=1)\n",
        "ax1.plot(phi_range, numpy.imag(f), 'b-.', label='imag', lw=1)\n",
        "ax1.set_xlabel(r'Faraday depth [rad/m$^2$]')\n",
        "ax1.set_ylabel(r'Faraday spectrum')\n",
        "ax1.legend(loc=0)\n",
        "\n",
        "pylab.show()"
      ],
      "execution_count": null,
      "outputs": []
    },
    {
      "cell_type": "code",
      "metadata": {
        "id": "5OSCCPRYk7FP",
        "colab_type": "code",
        "colab": {}
      },
      "source": [
        "from scipy.signal import savgol_filter as savitzky_golay\n",
        "smoothed_curve = savitzky_golay(numpy.absolute(p), 21, 3)\n",
        "detrended_amp = numpy.absolute(p) - smoothed_curve\n",
        "\n",
        "fig, axs = pylab.subplots(nrows=2, ncols=1, figsize=(15, 7), facecolor='white')\n",
        "axs[0].plot(lamsq, numpy.absolute(p), 'k-', lw=1, label='amp')\n",
        "axs[0].plot(lamsq, smoothed_curve, 'y-', lw=1, label='smoothed amp')\n",
        "axs[0].set_xlabel(r'Wavelength [m$^2$]')\n",
        "axs[0].set_ylabel(r'Fractional polarisation')\n",
        "axs[0].legend(loc=0)\n",
        "\n",
        "axs[1].plot(lamsq, detrended_amp, 'b-', lw=1, label='detrended amp')\n",
        "axs[1].axhline(y=np.mean(detrended_amp), color='k', linestyle=':', alpha=0.7, label='mean')\n",
        "region_size = 450  # samples\n",
        "axs[1].axvspan(lamsq[-1], lamsq[-region_size], alpha=0.1, color='red', label='var cal region')\n",
        "axs[1].axhline(y=np.std(detrended_amp[-region_size:]), color='k', linestyle='--', alpha=0.7, label='region std dev')\n",
        "axs[1].set_xlabel(r'Wavelength [m$^2$]')\n",
        "axs[1].set_ylabel(r'Fractional polarisation')\n",
        "axs[1].legend(loc=0)\n",
        "\n",
        "# noise estimate from selected regions and approximated as\n",
        "# noise variance = sqrt(var(abs(data)))\n",
        "# var(amp) = std(amp)**2 --> var(p) = std(amp)\n",
        "noisevar = np.std(detrended_amp[-region_size:])\n",
        "print(f'Assumed Gaussian noise variance {noisevar:.5f}')\n",
        "\n",
        "pylab.show()"
      ],
      "execution_count": null,
      "outputs": []
    },
    {
      "cell_type": "code",
      "metadata": {
        "id": "XmFbMOxes-jR",
        "colab_type": "code",
        "colab": {}
      },
      "source": [
        "# d = q+1j*u\n",
        "print(f'Length of input signal (p) = {len(p)} samples')\n",
        "n_pixels = 2048\n",
        "\n",
        "# s = Faraday spectrum\n",
        "distance = 2.*phi_max/n_pixels\n",
        "s_space = ift.RGSpace(n_pixels, distance)\n",
        "print(s_space)\n",
        "\n",
        "# R = Maps a Faraday spectrum to the respective data\n",
        "# R: domain(s) -> domain(d)\n",
        "R = faraday_response.NFFT(s_space, lamsq)\n",
        "# linear operator maps\n",
        "print(R.domain)\n",
        "\n",
        "# The next line checks < y , R (x) > = < R.adjoint(y), x > for random x, y\n",
        "ift.extra.check_linear_operator(R, np.complex128, np.complex128)\n",
        "\n",
        "d_space = R.target\n",
        "print(d_space)"
      ],
      "execution_count": null,
      "outputs": []
    },
    {
      "cell_type": "code",
      "metadata": {
        "id": "h0kk95QZs9ng",
        "colab_type": "code",
        "colab": {}
      },
      "source": [
        "# Define test signal as field\n",
        "data = ift.makeField(d_space, p)\n",
        "print(data)\n",
        "\n",
        "# N the covariance matrix\n",
        "N = ift.ScalingOperator(d_space, noisevar)\n",
        "print(N)"
      ],
      "execution_count": null,
      "outputs": []
    },
    {
      "cell_type": "code",
      "metadata": {
        "id": "ERyb_QVLGeha",
        "colab_type": "code",
        "colab": {}
      },
      "source": [
        "ift.single_plot(np.abs(R.adjoint(data)))\n",
        "ift.single_plot(np.abs((R.adjoint @ N.inverse)(data)))"
      ],
      "execution_count": null,
      "outputs": []
    },
    {
      "cell_type": "code",
      "metadata": {
        "id": "OFzu13hS6v6N",
        "colab_type": "code",
        "colab": {}
      },
      "source": [
        "args = {\n",
        "    'offset_mean': 0,\n",
        "    'offset_std': (1e-3, 1e-6),\n",
        "\n",
        "    # Amplitude of field fluctuations\n",
        "    'fluctuations': (2., 1.),  # 1.0, 1e-2\n",
        "\n",
        "    # Exponent of power law power spectrum component\n",
        "    'loglogavgslope': (-4., 1),  # -6.0, 1\n",
        "\n",
        "    # Amplitude of integrated Wiener process power spectrum component\n",
        "    'flexibility': (5, 2.),  # 2.0, 1.0\n",
        "\n",
        "    # How ragged the integrated Wiener process component is\n",
        "    'asperity': (0.5, 0.5)  # 0.1, 0.5\n",
        "}\n",
        "\n",
        "# set up the likelihood domain and target\n",
        "re = ift.SimpleCorrelatedField(s_space, **args, prefix='real')\n",
        "im = ift.SimpleCorrelatedField(s_space, **args, prefix='imag')\n",
        "print(re.real + 1j*im.real)"
      ],
      "execution_count": null,
      "outputs": []
    },
    {
      "cell_type": "code",
      "metadata": {
        "id": "jP-uUL6BArCn",
        "colab_type": "code",
        "colab": {}
      },
      "source": [
        "re_pspec = re.power_spectrum\n",
        "print(re_pspec.domain)\n",
        "im_pspec = im.power_spectrum\n",
        "print(im_pspec.domain)\n",
        "\n",
        "signal = re.real + 1j*im.real\n",
        "print(signal)\n",
        "\n",
        "# plot the power spectrum options\n",
        "plot = ift.Plot()\n",
        "plot.add([re_pspec(ift.from_random(re_pspec.domain)) for _ in range(5)], title='Re Power Spectrum')\n",
        "plot.add([im_pspec(ift.from_random(im_pspec.domain)) for _ in range(5)], title='Im Power Spectrum')\n",
        "plot.output(ny=1, nx=2, xsize=15, ysize=7)"
      ],
      "execution_count": null,
      "outputs": []
    },
    {
      "cell_type": "code",
      "metadata": {
        "id": "vw44S_9Js9Mt",
        "colab_type": "code",
        "colab": {}
      },
      "source": [
        "# R(signal) = R @ (re.real + 1j*im.real)\n",
        "likelihood = ift.GaussianEnergy(mean=data, inverse_covariance=N.inverse) @ R @ (re.real + 1j*im.real)\n",
        "print(likelihood)"
      ],
      "execution_count": null,
      "outputs": []
    },
    {
      "cell_type": "code",
      "metadata": {
        "id": "kGGyOEceDFAV",
        "colab_type": "code",
        "colab": {}
      },
      "source": [
        "# define hamiltonian\n",
        "ic_sampling = ift.AbsDeltaEnergyController(name='Sampling', deltaE=0.05, iteration_limit=100)\n",
        "H = ift.StandardHamiltonian(likelihood, ic_sampling)"
      ],
      "execution_count": null,
      "outputs": []
    },
    {
      "cell_type": "code",
      "metadata": {
        "id": "Jwalw_ijDEjD",
        "colab_type": "code",
        "colab": {}
      },
      "source": [
        "# initialise the minimization\n",
        "initial_mean = ift.MultiField.full(H.domain, 0.)\n",
        "mean = initial_mean\n",
        "ic_newton = ift.AbsDeltaEnergyController(name='Newton', deltaE=0.5, iteration_limit=35)\n",
        "minimizer = ift.NewtonCG(ic_newton)"
      ],
      "execution_count": null,
      "outputs": []
    },
    {
      "cell_type": "code",
      "metadata": {
        "id": "0v_SREBAIoOD",
        "colab_type": "code",
        "colab": {}
      },
      "source": [
        "# number of samples used to estimate the KL\n",
        "N_samples = 20\n",
        "\n",
        "# Draw new samples to approximate the KL five times\n",
        "for i in range(5):\n",
        "#for i in range(1):\n",
        "    # Draw new samples and minimize KL\n",
        "    KL = ift.MetricGaussianKL.make(mean, H, N_samples)\n",
        "    KL, convergence = minimizer(KL)\n",
        "    mean = KL.position\n",
        "\n",
        "#    # Plot current reconstruction\n",
        "#    plot = ift.Plot()\n",
        "#    plot.add(signal(KL.position), title=\"Latent mean\")\n",
        "#    plot.add([pspec.force(KL.position + ss) for ss in KL.samples],\n",
        "#                title=\"Samples power spectrum\")\n",
        "#    plot.output(ny=1, ysize=6, xsize=16,\n",
        "#                name=filename.format(\"loop_{:02d}\".format(i)))\n",
        "\n"
      ],
      "execution_count": null,
      "outputs": []
    },
    {
      "cell_type": "code",
      "metadata": {
        "id": "2MppesWWInPP",
        "colab_type": "code",
        "colab": {}
      },
      "source": [
        "## add some posterior analysis and draw new smaples\n",
        "#KL = ift.MetricGaussianKL(mean, H, N_samples)\n",
        "# operator to calculate running mean\n",
        "sc = ift.StatCalculator()\n",
        "# draw posterior samples\n",
        "for sample in KL.samples:\n",
        "    sc.add(signal(sample + KL.position))"
      ],
      "execution_count": null,
      "outputs": []
    },
    {
      "cell_type": "code",
      "metadata": {
        "id": "JeSPBRy-WTor",
        "colab_type": "code",
        "colab": {}
      },
      "source": [
        "# plot the posterior mean (sc.mean)\n",
        "# and look at the standard deviation (sc.var)\n",
        "plot = ift.Plot()\n",
        "plot.add(np.abs(sc.mean), title=\"Posterior Mean\")\n",
        "plot.add(ift.sqrt(np.abs(sc.var)), title=\"Posterior Standard Deviation\")\n",
        "plot.output(ny=1, nx=2, xsize=15, ysize=7)"
      ],
      "execution_count": null,
      "outputs": []
    },
    {
      "cell_type": "code",
      "metadata": {
        "id": "6bmTCzCOQmF7",
        "colab_type": "code",
        "colab": {}
      },
      "source": [
        "print(sc.mean.size)"
      ],
      "execution_count": null,
      "outputs": []
    },
    {
      "cell_type": "code",
      "metadata": {
        "id": "B7z6-HDZQ0Q3",
        "colab_type": "code",
        "colab": {}
      },
      "source": [
        ""
      ],
      "execution_count": null,
      "outputs": []
    },
    {
      "cell_type": "code",
      "metadata": {
        "id": "8BoWUmgqUI9e",
        "colab_type": "code",
        "colab": {}
      },
      "source": [
        ""
      ],
      "execution_count": null,
      "outputs": []
    }
  ]
}