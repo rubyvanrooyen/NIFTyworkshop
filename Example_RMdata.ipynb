{
  "nbformat": 4,
  "nbformat_minor": 0,
  "metadata": {
    "colab": {
      "name": "Example_RMdata.ipynb",
      "provenance": [],
      "private_outputs": true,
      "authorship_tag": "ABX9TyMM093TJLKATxspleYTLywG",
      "include_colab_link": true
    },
    "kernelspec": {
      "name": "python3",
      "display_name": "Python 3"
    }
  },
  "cells": [
    {
      "cell_type": "markdown",
      "metadata": {
        "id": "view-in-github",
        "colab_type": "text"
      },
      "source": [
        "<a href=\"https://colab.research.google.com/github/rubyvanrooyen/NIFTyworkshop/blob/master/Example_RMdata.ipynb\" target=\"_parent\"><img src=\"https://colab.research.google.com/assets/colab-badge.svg\" alt=\"Open In Colab\"/></a>"
      ]
    },
    {
      "cell_type": "code",
      "metadata": {
        "id": "ajP_0U5puVpL",
        "colab_type": "code",
        "colab": {}
      },
      "source": [
        "from matplotlib import pylab\n",
        "import io\n",
        "import numpy\n",
        "import numpy as np\n",
        "import requests"
      ],
      "execution_count": null,
      "outputs": []
    },
    {
      "cell_type": "code",
      "metadata": {
        "id": "JVGqlQv0uVjX",
        "colab_type": "code",
        "colab": {}
      },
      "source": [
        "# example input signal (1D with power spectrum)\n",
        "url='https://raw.githubusercontent.com/rubyvanrooyen/NIFTyworkshop/master/PDATA-RMSYN-1.TXT'\n",
        "res = requests.get(url)\n",
        "f = io.StringIO(res.text)\n",
        "data = f.readlines()"
      ],
      "execution_count": null,
      "outputs": []
    },
    {
      "cell_type": "code",
      "metadata": {
        "id": "tiF3FXwAuVdM",
        "colab_type": "code",
        "colab": {}
      },
      "source": [
        "# four columns in each file: frequencies in  Hz, Stokes Q , Stokes U and Stokes I in Jansky per beam\n",
        "freq_hz = []\n",
        "stokes_q = []\n",
        "stokes_u = []\n",
        "stokes_i = []\n",
        "for line in data:\n",
        "    [freq, q, u, i] = line.strip().split()\n",
        "    freq_hz.append(freq)\n",
        "    stokes_q.append(q)\n",
        "    stokes_u.append(u)\n",
        "    stokes_i.append(i)\n",
        "freq_hz = np.array(freq_hz, dtype=float)\n",
        "stokes_q = np.array(stokes_q, dtype=float)\n",
        "stokes_u = np.array(stokes_u, dtype=float)\n",
        "stokes_i = np.array(stokes_i, dtype=float)"
      ],
      "execution_count": null,
      "outputs": []
    },
    {
      "cell_type": "code",
      "metadata": {
        "id": "HnyofgwcuVXA",
        "colab_type": "code",
        "colab": {}
      },
      "source": [
        "print(freq_hz.shape)\n",
        "print(stokes_q.shape)\n",
        "print(stokes_u.shape)\n",
        "print(stokes_i.shape)\n"
      ],
      "execution_count": null,
      "outputs": []
    },
    {
      "cell_type": "code",
      "metadata": {
        "id": "rLHwtOOjuVOT",
        "colab_type": "code",
        "colab": {}
      },
      "source": [
        "\n",
        "\n"
      ],
      "execution_count": null,
      "outputs": []
    },
    {
      "cell_type": "code",
      "metadata": {
        "id": "ml2eeoeRuST6",
        "colab_type": "code",
        "colab": {}
      },
      "source": [
        "# fractional polarisation\n",
        "# P = pI = Q + iU\n",
        "Pcorr = stokes_q + 1j*stokes_u\n",
        "p = Pcorr/stokes_i"
      ],
      "execution_count": null,
      "outputs": []
    },
    {
      "cell_type": "code",
      "metadata": {
        "id": "qfIneoykP-Kt",
        "colab_type": "code",
        "colab": {}
      },
      "source": [
        "def faraday_synthesis(x, pol, phi_range, lambda0=False):\n",
        "    f = numpy.zeros(len(phi_range), dtype=complex)\n",
        "\n",
        "    N = len(x)\n",
        "    xmean = x.mean()\n",
        "\n",
        "    for k, phi in enumerate(phi_range):\n",
        "        if lambda0:\n",
        "            f[k] = numpy.sum(pol * numpy.exp(-2j * phi * (x-xmean) ))/N\n",
        "        else:\n",
        "            f[k] = numpy.sum(pol * numpy.exp(-2j * phi * x ))/N\n",
        "                    \n",
        "    return f"
      ],
      "execution_count": null,
      "outputs": []
    },
    {
      "cell_type": "code",
      "metadata": {
        "id": "dVYjJc_XQJTE",
        "colab_type": "code",
        "colab": {}
      },
      "source": [
        "# c = Speed of Light (299,792,458 m/s)\n",
        "# define lambda^2\n",
        "dx = 3.835e-5  # m^2 \n",
        "# x = numpy.arange((3.0e8/freq_hz[-1])**2, (3.0e8/freq_hz[0])**2, dx)  # m^2\n",
        "x = (3.0e8/freq_hz)**2  # m^2\n",
        "\n",
        "# Faraday depth\n",
        "# define Faraday depth range\n",
        "phi_min = -10000\n",
        "phi_max = 10000\n",
        "d_phi = (phi_max - phi_min)/float(len(P))\n",
        "phi_range = numpy.arange(phi_min, phi_max, d_phi)"
      ],
      "execution_count": null,
      "outputs": []
    },
    {
      "cell_type": "code",
      "metadata": {
        "id": "pMOrDNO0D6lF",
        "colab_type": "code",
        "colab": {}
      },
      "source": [
        "# Faraday spectrum\n",
        "rmtf = faraday_synthesis(x,  # wavelength: wavelength squared.\n",
        "                         p,\n",
        "                         phi_range,  # Faraday depth range\n",
        "                         lambda0=False)"
      ],
      "execution_count": null,
      "outputs": []
    },
    {
      "cell_type": "code",
      "metadata": {
        "id": "EyuJTVNs5SDW",
        "colab_type": "code",
        "colab": {}
      },
      "source": [
        "\n",
        "#plot fractional polarisation vs wavelength\n",
        "# fractional polarisation (P/I) amplitude\n",
        "fig, axs = pylab.subplots(1, 3, figsize=(15, 3), facecolor='white')\n",
        "axs[0].plot(x, np.abs(p))\n",
        "axs[0].set_xlabel(r'Wavelength [m$^2$]')\n",
        "axs[0].set_ylabel(r'Fractional polarisation')\n",
        "\n",
        "# plot polarisation angle (lambda**2) [rad] vs wavelength [m**2]\n",
        "#observed position angle (black) and the residual position angle\n",
        "#(blue) after the dominant peak in the Faraday spectrum was removed.\n",
        "pol_angle = 0.5*np.unwrap(np.angle(P))\n",
        "#pol_angle = 0.5*np.unwrap(np.angle(p))\n",
        "axs[1].plot(x, pol_angle - pol_angle.max())\n",
        "axs[1].set_xlabel(r'Wavelength [m$^2$]')\n",
        "axs[1].set_ylabel(r'Pol angle ($\\lambda^2$) [rad]')\n",
        "\n",
        "# Faraday spectrum vs faraday depth [rad/m**2]\n",
        "axs[2].plot(phi_range, np.abs(rmtf)) \n",
        "axs[2].set_xlabel(r'Faraday depth [rad/m$^2$]')\n",
        "axs[2].set_ylabel(r'Faraday spectrum')\n",
        "\n",
        "pylab.show()"
      ],
      "execution_count": null,
      "outputs": []
    },
    {
      "cell_type": "code",
      "metadata": {
        "id": "MdhiFx0SHtSu",
        "colab_type": "code",
        "colab": {}
      },
      "source": [
        "#plot fractional polarisation vs wavelength\n",
        "# fractional polarisation (P/I) amplitude\n",
        "fig, axs = pylab.subplots(1, 2, figsize=(7, 3), facecolor='white')\n",
        "# Faraday spectrum vs faraday depth [rad/m**2]\n",
        "axs[0].plot(phi_range, np.abs(rmtf)) \n",
        "axs[0].set_xlabel(r'Faraday depth [rad/m$^2$]')\n",
        "axs[0].set_ylabel(r'Faraday spectrum')\n",
        "\n",
        "axs[1].plot(x, np.abs(numpy.fft.fftshift(numpy.fft.fft(rmtf)))) \n",
        "\n",
        "pylab.show()"
      ],
      "execution_count": null,
      "outputs": []
    },
    {
      "cell_type": "code",
      "metadata": {
        "id": "CQe9jAqnpj1M",
        "colab_type": "code",
        "colab": {}
      },
      "source": [
        ""
      ],
      "execution_count": null,
      "outputs": []
    }
  ]
}