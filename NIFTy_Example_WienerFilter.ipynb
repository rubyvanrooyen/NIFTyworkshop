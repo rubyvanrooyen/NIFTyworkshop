{
  "nbformat": 4,
  "nbformat_minor": 0,
  "metadata": {
    "colab": {
      "name": "NIFTy_Example_WienerFilter.ipynb",
      "provenance": [],
      "private_outputs": true,
      "authorship_tag": "ABX9TyNve9do90YHlnrQjLV4mOQ7",
      "include_colab_link": true
    },
    "kernelspec": {
      "name": "python3",
      "display_name": "Python 3"
    }
  },
  "cells": [
    {
      "cell_type": "markdown",
      "metadata": {
        "id": "view-in-github",
        "colab_type": "text"
      },
      "source": [
        "<a href=\"https://colab.research.google.com/github/rubyvanrooyen/NIFTyworkshop/blob/master/NIFTy_Example_WienerFilter.ipynb\" target=\"_parent\"><img src=\"https://colab.research.google.com/assets/colab-badge.svg\" alt=\"Open In Colab\"/></a>"
      ]
    },
    {
      "cell_type": "code",
      "metadata": {
        "id": "pq5DyIXvhnqD",
        "colab_type": "code",
        "colab": {}
      },
      "source": [
        "!git clone -b NIFTy_6 --single-branch https://gitlab.mpcdf.mpg.de/ift/nifty.git\n",
        "!pip install ./nifty"
      ],
      "execution_count": null,
      "outputs": []
    },
    {
      "cell_type": "code",
      "metadata": {
        "id": "yTdIRn04fXzr",
        "colab_type": "code",
        "colab": {}
      },
      "source": [
        "import nifty6 as ift\n",
        "import numpy\n",
        "import numpy as np\n",
        "from matplotlib import pylab"
      ],
      "execution_count": null,
      "outputs": []
    },
    {
      "cell_type": "code",
      "metadata": {
        "id": "HxNgpzf3XdYc",
        "colab_type": "code",
        "colab": {}
      },
      "source": [
        "# dummy function for demo\n",
        "def pow_spec(k):\n",
        "    P0, k0, gamma = [.2, 5, 6]\n",
        "    return P0 * (1. + (k/k0)**2)**(- gamma / 2)\n",
        "\n",
        "# generate example dataset\n",
        "N_pixels = 512     # Number of pixels\n",
        "# assume a periodic signal and define a regularly sampled grid (to start with)\n",
        "# -- regular grid space = 1d with length N pixels\n",
        "s_space = ift.RGSpace(N_pixels)\n",
        "print(s_space)\n",
        "\n",
        "# get the harmonic space field\n",
        "h_space = s_space.get_default_codomain()\n",
        "# basically just an FFT, but actually a hartley transform\n",
        "HT = ift.HarmonicTransformOperator(h_space, target=s_space)\n",
        "print(HT)\n",
        "\n",
        "# Operators\n",
        "# diagonal operator with power spectrum on diagonal\n",
        "S = ift.create_power_operator(h_space, power_spectrum=pow_spec)\n",
        "print(S)\n",
        "\n",
        "R = HT\n",
        "print(R)\n",
        "\n",
        "# fft = FFTOperator(s_space)\n",
        "# print(fft.target)\n",
        "# h_space = fft.target[0]\n",
        "# print(h_space)\n",
        "# R = HT*ift.create_harmonic_smoothing_operator((h_space,), 0, 0.02)\n",
        "# print(R)\n",
        "\n",
        "# Fields and data\n",
        "# create a fake signal\n",
        "# draw a sample form the zero-centered Gaussian distribution with S as covariance\n",
        "s = S.draw_sample_with_dtype(dtype=np.float64)\n",
        "# (ground truth  - the signal we know)\n",
        "print(s.val.shape)\n",
        "# prior sample with this given signal\n",
        "noiseless_data=R(s)\n",
        "print(noiseless_data.val.shape)\n",
        "# s is ground truth -- R(s) is in real space \n",
        "\n",
        "# define the noise operator\n",
        "noise_amplitude = np.sqrt(0.2) # replace with the actual noise covariance you have\n",
        "N = ift.ScalingOperator(s_space, noise_amplitude**2) # diagonal operator with the same number of the diagonal\n",
        "n0 = N.draw_sample_with_dtype(dtype=np.float64)\n",
        "print(n0.val.shape)\n",
        "n1 = ift.Field.from_random(domain=s_space, random_type='normal',\n",
        "                          std=noise_amplitude, mean=0)\n",
        "print(n1.val.shape)\n",
        "\n",
        "# to calculate d you need to generate fields s and n with given covariances\n",
        "# -- define what fields are in the INF sense of the way\n",
        "d = noiseless_data + n1\n",
        "print(d.val.shape)\n",
        "\n",
        "fig, (ax0, ax1, ax2) = pylab.subplots(3, 1, figsize=(15, 11), facecolor='white')\n",
        "ax0.plot(s.val, 'y-', noiseless_data.val, 'k')\n",
        "ax1.plot(n0.val, 'b-', n1.val, 'r-')\n",
        "ax2.plot(d.val, 'g-')\n",
        "pylab.show()"
      ],
      "execution_count": null,
      "outputs": []
    },
    {
      "cell_type": "markdown",
      "metadata": {
        "id": "RsrieLjaZw-1",
        "colab_type": "text"
      },
      "source": [
        "IFT starting point: $d=Rs+n$\n",
        "Typically, $s$ is a continuous field/map, $d$ a discrete data vector and $R$  is not invertible.\n",
        "\n",
        "Assumption:\n",
        "* $d=Rs+n$, with $R$ a linear response operator.\n"
      ]
    },
    {
      "cell_type": "markdown",
      "metadata": {
        "id": "9Id3pYb0X545",
        "colab_type": "text"
      },
      "source": [
        "Example Wiener filter implementation with NIFTy"
      ]
    },
    {
      "cell_type": "code",
      "metadata": {
        "id": "xYIEwpKiXdPF",
        "colab_type": "code",
        "colab": {}
      },
      "source": [
        "# we will now start off assuming data 'd' as given\n",
        "data = d"
      ],
      "execution_count": null,
      "outputs": []
    },
    {
      "cell_type": "markdown",
      "metadata": {
        "id": "EQS1oy74iAbQ",
        "colab_type": "text"
      },
      "source": [
        "$P(s) = G(s,S)$, $P(n)=G(n,N)$ where S, N are positive definite matrices."
      ]
    },
    {
      "cell_type": "markdown",
      "metadata": {
        "id": "qvwJu9amoMkD",
        "colab_type": "text"
      },
      "source": [
        "The Posterior is given by:\n",
        "$P (s|d) \\propto P(s,d) = G(d-Rs,N) \\, G(s,S) \\propto G (s-m,D)$\n",
        "\n",
        "where\n",
        "\n",
        "$\\begin{align}\n",
        "m &= Dj \\\\\n",
        "D^{-1}&= (S^{-1} +R^\\dagger N^{-1} R )\\\\\n",
        "j &= R^\\dagger N^{-1} d\n",
        "\\end{align}$"
      ]
    },
    {
      "cell_type": "markdown",
      "metadata": {
        "id": "0Fl6Ia1eFqIW",
        "colab_type": "text"
      },
      "source": [
        "We assume statistical homogeneity and isotropy.     \n",
        "Therefore the signal covariance $S$ is diagonal in harmonic space, and is described by a one-dimensional power spectrum.    \n",
        "* number of data points Npix=len(d).\n",
        "* reconstruction in harmonic space.\n",
        "* response operator: $R = FFT_{\\text{harmonic} \\rightarrow \\text{position}}$"
      ]
    },
    {
      "cell_type": "markdown",
      "metadata": {
        "id": "x8CLVf8CnGP1",
        "colab_type": "text"
      },
      "source": [
        "$D$ is defined via:\n",
        "$D^{-1} = S_h^{-1} + R^\\dagger N^{-1} R$\n",
        "\n",
        "In the end, we want to apply $D$ to $j$, i.e. we need the inverse action of $D^{-1}$.\n",
        "This is done numerically"
      ]
    },
    {
      "cell_type": "code",
      "metadata": {
        "id": "zHC3tP7Mh5HA",
        "colab_type": "code",
        "colab": {}
      },
      "source": [
        "# One-dimensional regular grid\n",
        "position_space = ift.RGSpace([len(data.val)])\n",
        "# Specify harmonic space corresponding to signal\n",
        "harmonic_space = position_space.get_default_codomain()\n",
        "# Harmonic transform from harmonic space to position space\n",
        "HT = ift.HarmonicTransformOperator(harmonic_space, target=position_space)\n",
        "\n",
        "# Set prior correlation covariance with a power spectrum leading to\n",
        "# homogeneous and isotropic statistics\n",
        "# 1D spectral space on which the power spectrum is defined\n",
        "Sh = ift.create_power_operator(harmonic_space, power_spectrum=pow_spec)\n",
        "\n",
        "# The response operator consists of\n",
        "# - a harmonic transform (to get to image space)\n",
        "R = HT\n",
        "\n",
        "# Set the noise covariance N\n",
        "noise = 0.2\n",
        "N = ift.ScalingOperator(position_space, noise)"
      ],
      "execution_count": null,
      "outputs": []
    },
    {
      "cell_type": "code",
      "metadata": {
        "id": "rlyrNCd7h48y",
        "colab_type": "code",
        "colab": {}
      },
      "source": [
        "# Build inverse propagator D and information source j\n",
        "j = R.adjoint_times(N.inverse_times(data))\n",
        "\n",
        "# Make D_inv invertible (via Conjugate Gradient)\n",
        "# conjugate gradient for inverse of matrix -- solves Ax=b (given A and b) for x\n",
        "# computes a pseudo inverse with some conditions for A (A must be positive definite)\n",
        "ic = ift.GradientNormController(iteration_limit=50000, tol_abs_gradnorm=0.1)\n",
        "# WienerFilterCurvature is (R.adjoint@N.inverse@R + Sh.inverse) plus some handy helper methods.\n",
        "D = ift.WienerFilterCurvature(R, N, S, iteration_controller=ic, iteration_controller_sampling=ic).inverse"
      ],
      "execution_count": null,
      "outputs": []
    },
    {
      "cell_type": "markdown",
      "metadata": {
        "id": "Og0T_aFxmvdq",
        "colab_type": "text"
      },
      "source": [
        "Run the Wiener filter\n"
      ]
    },
    {
      "cell_type": "code",
      "metadata": {
        "id": "Prta5N28h4yN",
        "colab_type": "code",
        "colab": {}
      },
      "source": [
        "# Calculate WIENER FILTER solution\n",
        "m = D(j)"
      ],
      "execution_count": null,
      "outputs": []
    },
    {
      "cell_type": "code",
      "metadata": {
        "id": "QQvVpU2RY-Ju",
        "colab_type": "code",
        "colab": {}
      },
      "source": [
        "# Get signal data and reconstruction data\n",
        "# R(m) posterior mean -- recontructed signal\n",
        "m_data = R(m).val\n",
        "# corrupt measured signal\n",
        "d_data = data.val\n",
        "\n",
        "# recontruct and compare\n",
        "fig, ax = pylab.subplots(1, 1, figsize=(15, 3), facecolor='white')\n",
        "# R(s) ground truth -- the signal we know\n",
        "s_data = R(s).val\n",
        "ax.plot(s_data, 'r', label=\"Signal\", linewidth=3)\n",
        "\n",
        "ax.plot(d_data, 'k.', label=\"Data\")\n",
        "ax.plot(m_data, 'k', label=\"Reconstruction\",linewidth=3)\n",
        "ax.set_title(\"Reconstruction\")\n",
        "pylab.legend()\n",
        "pylab.show()"
      ],
      "execution_count": null,
      "outputs": []
    },
    {
      "cell_type": "code",
      "metadata": {
        "id": "a8Xv7QPV6ANn",
        "colab_type": "code",
        "colab": {}
      },
      "source": [
        "fig, ax = pylab.subplots(1, 1, figsize=(15, 3), facecolor='white')\n",
        "ax.plot(s_data - s_data, 'r', label=\"Signal\", linewidth=3)\n",
        "ax.plot(d_data - s_data, 'k.', label=\"Data\")\n",
        "ax.plot(m_data - s_data, 'k', label=\"Reconstruction\",linewidth=3)\n",
        "ax.axhspan(-noise_amplitude,noise_amplitude, facecolor='0.9', alpha=.5)\n",
        "ax.set_title(\"Residuals\")\n",
        "pylab.legend()\n",
        "pylab.show()"
      ],
      "execution_count": null,
      "outputs": []
    },
    {
      "cell_type": "code",
      "metadata": {
        "id": "DoJFfr9q5-gY",
        "colab_type": "code",
        "colab": {}
      },
      "source": [
        "s_power_data = ift.power_analyze(s).val\n",
        "m_power_data = ift.power_analyze(m).val\n",
        "fig, ax = pylab.subplots(1, 1, figsize=(15, 3), facecolor='white')\n",
        "pylab.loglog()\n",
        "ax.set_xlim(1, int(N_pixels/2))\n",
        "ymin = min(m_power_data)\n",
        "ax.set_ylim(ymin, 1)\n",
        "xs = np.arange(1,int(N_pixels/2),.1)\n",
        "ax.plot(xs, pow_spec(xs), label=\"True Power Spectrum\", color='k',alpha=0.5)\n",
        "ax.plot(s_power_data, 'r', label=\"Signal\")\n",
        "ax.plot(m_power_data, 'k', label=\"Reconstruction\")\n",
        "ax.axhline(noise_amplitude**2 / N_pixels, color=\"k\", linestyle='--', label=\"Noise level\", alpha=.5)\n",
        "ax.axhspan(noise_amplitude**2 / N_pixels, ymin, facecolor='0.9', alpha=.5)\n",
        "ax.set_title(\"Power Spectrum\")\n",
        "pylab.legend()\n",
        "pylab.show()"
      ],
      "execution_count": null,
      "outputs": []
    },
    {
      "cell_type": "code",
      "metadata": {
        "id": "2yED9pZIXc3M",
        "colab_type": "code",
        "colab": {}
      },
      "source": [
        ""
      ],
      "execution_count": null,
      "outputs": []
    }
  ]
}