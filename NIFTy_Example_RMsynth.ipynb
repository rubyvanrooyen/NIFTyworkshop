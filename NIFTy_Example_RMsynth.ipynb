{
  "nbformat": 4,
  "nbformat_minor": 0,
  "metadata": {
    "colab": {
      "name": "NIFTy_Example_RMsynth.ipynb",
      "provenance": [],
      "private_outputs": true,
      "authorship_tag": "ABX9TyOw2itbr0sM0sHizW4yVFFo",
      "include_colab_link": true
    },
    "kernelspec": {
      "name": "python3",
      "display_name": "Python 3"
    }
  },
  "cells": [
    {
      "cell_type": "markdown",
      "metadata": {
        "id": "view-in-github",
        "colab_type": "text"
      },
      "source": [
        "<a href=\"https://colab.research.google.com/github/rubyvanrooyen/NIFTyworkshop/blob/master/NIFTy_Example_RMsynth.ipynb\" target=\"_parent\"><img src=\"https://colab.research.google.com/assets/colab-badge.svg\" alt=\"Open In Colab\"/></a>"
      ]
    },
    {
      "cell_type": "code",
      "metadata": {
        "id": "rluZWJxyHe9M",
        "colab_type": "code",
        "colab": {}
      },
      "source": [
        "!git clone -b NIFTy_6 --single-branch https://gitlab.mpcdf.mpg.de/ift/nifty.git\n",
        "!pip install ./nifty"
      ],
      "execution_count": null,
      "outputs": []
    },
    {
      "cell_type": "code",
      "metadata": {
        "id": "7RSag_tPHe0n",
        "colab_type": "code",
        "colab": {}
      },
      "source": [
        "import nifty6 as ift\n",
        "import numpy\n",
        "import numpy as np\n",
        "from matplotlib import pylab"
      ],
      "execution_count": null,
      "outputs": []
    },
    {
      "cell_type": "code",
      "metadata": {
        "id": "3ef5c2RQHeqs",
        "colab_type": "code",
        "colab": {}
      },
      "source": [
        "def p_lambda2(x, p0 = 0.5, RM=0., DRM=500., fa=12.):\n",
        "    PA = numpy.pi/fa\n",
        "    p = p0 \\\n",
        "    * (numpy.sin(DRM * x )/(DRM*x) ) \\\n",
        "    * numpy.exp(2j* RM * x) \\\n",
        "    * numpy.exp(2j * PA)\n",
        "    return p\n",
        "\n",
        "def faraday_synthesis(x, pol, phi_range, lambda0=False):\n",
        "    f = numpy.zeros(len(phi_range), dtype=complex)\n",
        "\n",
        "    N = len(x)\n",
        "    xmean = x.mean()\n",
        "\n",
        "    for k, phi in enumerate(phi_range):\n",
        "        if lambda0:\n",
        "            f[k] = numpy.sum(pol * numpy.exp(-2j * phi * (x-xmean) ))/N\n",
        "        else:\n",
        "            f[k] = numpy.sum(pol * numpy.exp(-2j * phi * x ))/N\n",
        "                    \n",
        "    return f\n",
        "\n",
        "# define lambda^2\n",
        "dx = 3.835e-5 # m^2 \n",
        "x = numpy.arange((3.0e8/18e9)**2, (3.0e8/2e9)**2, dx)\n",
        "# define Faraday depth range\n",
        "phi_range = numpy.arange(-10000, 10010, 10)\n",
        "\n",
        "p = p_lambda2(x)\n",
        "\n",
        "f = faraday_synthesis(x,  # wavelength: wavelength squared.\n",
        "                      p,\n",
        "                      phi_range,  # Faraday depth range\n",
        "                      lambda0=False)"
      ],
      "execution_count": null,
      "outputs": []
    },
    {
      "cell_type": "code",
      "metadata": {
        "id": "y9k9n6ZKHehN",
        "colab_type": "code",
        "colab": {}
      },
      "source": [
        "Npixels=len(f)\n",
        "# One-dimensional regular grid\n",
        "position_space = ift.RGSpace([Npixels])\n",
        "mask = np.zeros(position_space.shape)\n",
        "\n",
        "# Specify harmonic space corresponding to signal\n",
        "harmonic_space = position_space.get_default_codomain()\n",
        "\n",
        "# Harmonic transform from harmonic space to position space\n",
        "HT = ift.HarmonicTransformOperator(harmonic_space, target=position_space)\n",
        "\n",
        "# 1D spectral space on which the power spectrum is defined\n",
        "power_space = ift.PowerSpace(harmonic_space)\n",
        "\n",
        "# Mapping to (higher dimensional) harmonic space\n",
        "PD = ift.PowerDistributor(harmonic_space, power_space)\n",
        "\n",
        "# Apply the mapping\n",
        "# Set prior correlation covariance with a power spectrum leading to\n",
        "# homogeneous and isotropic statistics\n",
        "def power_spectrum(k):\n",
        "    return 100./(20. + k**3)\n",
        "\n",
        "prior_correlation_structure = PD(ift.PS_field(power_space, power_spectrum))\n",
        "\n",
        "# Insert the result into the diagonal of an harmonic space operator\n",
        "S = ift.DiagonalOperator(prior_correlation_structure)\n",
        "# S is the prior field covariance\n",
        "\n",
        "# Build instrument response consisting of a discretization, mask\n",
        "# and harmonic transformaion\n",
        "\n",
        "# Masking operator to model that parts of the field have not been observed\n",
        "mask = ift.Field.from_raw(position_space, mask)\n",
        "Mask = ift.MaskOperator(mask)\n",
        "\n",
        "# The response operator consists of\n",
        "# - a harmonic transform (to get to image space)\n",
        "# - the application of the mask\n",
        "# - the removal of geometric information\n",
        "# The removal of geometric information is included in the MaskOperator\n",
        "# it can also be implemented with a GeometryRemover\n",
        "# Operators can be composed either with parenthesis\n",
        "R = Mask(HT)\n",
        "data_space = R.target\n",
        "\n",
        "# Set the noise covariance N\n",
        "noise = 0.2\n",
        "N = ift.ScalingOperator(data_space, noise)\n",
        "\n",
        "# Define test signal (some point sources)\n",
        "signal = ift.makeField(data_space, np.abs(f))\n",
        "\n",
        "# Build inverse propagator D and information source j\n",
        "D_inv = R.adjoint @ N.inverse @ R + S.inverse\n",
        "j = R.adjoint_times(N.inverse_times(signal))\n",
        "# Make D_inv invertible (via Conjugate Gradient)\n",
        "IC = ift.GradientNormController(iteration_limit=500, tol_abs_gradnorm=1e-3)\n",
        "D = ift.InversionEnabler(D_inv, IC, approximation=S.inverse).inverse\n",
        "\n",
        "# Calculate WIENER FILTER solution\n",
        "m = D(j)"
      ],
      "execution_count": null,
      "outputs": []
    },
    {
      "cell_type": "code",
      "metadata": {
        "id": "DOuL3bFJNy_S",
        "colab_type": "code",
        "colab": {}
      },
      "source": [
        "# Get signal data and reconstruction data\n",
        "# R(m) posterior mean -- recontructed signal\n",
        "m_data = R(m).val\n",
        "# corrupt measured signal\n",
        "d_data = signal.val\n",
        "\n",
        "# recontruct and compare\n",
        "fig, ax = pylab.subplots(1, 1, figsize=(15, 3), facecolor='white')\n",
        "ax.plot(d_data, 'k.', label=\"Data\")\n",
        "ax.plot(m_data, 'k', label=\"Reconstruction\",linewidth=3)\n",
        "ax.set_title(\"Reconstruction\")\n",
        "pylab.legend()\n",
        "pylab.show()"
      ],
      "execution_count": null,
      "outputs": []
    },
    {
      "cell_type": "code",
      "metadata": {
        "id": "aAIZgEdBHeW_",
        "colab_type": "code",
        "colab": {}
      },
      "source": [
        ""
      ],
      "execution_count": null,
      "outputs": []
    }
  ]
}