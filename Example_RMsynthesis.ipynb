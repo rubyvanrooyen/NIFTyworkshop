{
  "nbformat": 4,
  "nbformat_minor": 0,
  "metadata": {
    "colab": {
      "name": "Example-RMsynthesis.ipynb",
      "provenance": [],
      "private_outputs": true,
      "authorship_tag": "ABX9TyNXmdqMjYZ2j0uFICodnwq0",
      "include_colab_link": true
    },
    "kernelspec": {
      "name": "python3",
      "display_name": "Python 3"
    }
  },
  "cells": [
    {
      "cell_type": "markdown",
      "metadata": {
        "id": "view-in-github",
        "colab_type": "text"
      },
      "source": [
        "<a href=\"https://colab.research.google.com/github/rubyvanrooyen/NIFTyworkshop/blob/master/Example_RMsynthesis.ipynb\" target=\"_parent\"><img src=\"https://colab.research.google.com/assets/colab-badge.svg\" alt=\"Open In Colab\"/></a>"
      ]
    },
    {
      "cell_type": "code",
      "metadata": {
        "id": "t4eLsJbFHVEt",
        "colab_type": "code",
        "colab": {}
      },
      "source": [
        "from ipywidgets import interact, widgets\n",
        "from matplotlib import pylab\n",
        "from scipy import signal\n",
        "import math\n",
        "import numpy"
      ],
      "execution_count": null,
      "outputs": []
    },
    {
      "cell_type": "code",
      "metadata": {
        "id": "dpYd_oqIdfxM",
        "colab_type": "code",
        "colab": {}
      },
      "source": [
        "def plot_complex(f, ax=None, show_legend=True):\n",
        "    if ax is None:\n",
        "        fig, ax = pylab.subplots(nrows=1, ncols=1, facecolor='white')\n",
        "    ax.plot(numpy.absolute(f), 'g-', label='amp', lw=1)\n",
        "    ax.plot(numpy.real(f), 'r-', label='real', lw=1)\n",
        "    ax.plot(numpy.imag(f), 'b-.', label='imag', lw=1)\n",
        "\n",
        "    if show_legend:\n",
        "        ax.legend(loc=0)\n",
        "    "
      ],
      "execution_count": null,
      "outputs": []
    },
    {
      "cell_type": "code",
      "metadata": {
        "id": "AFWs6hlLeK8Z",
        "colab_type": "code",
        "colab": {}
      },
      "source": [
        "def p_lambda2(pl2):  # need better name (more descriptive)\n",
        "\n",
        "    # define lambda^2\n",
        "    dx = 3.835e-5 # m^2 \n",
        "    x = numpy.arange((3.0e8/18e9)**2, (3.0e8/2e9)**2, dx)\n",
        "\n",
        "    if 'slab' in pl2.lower():\n",
        "        p = p0 * (numpy.sin(DRM * x )/(DRM*x) ) * numpy.exp(2j* RM * x) * numpy.exp(2j * PA)\n",
        "    elif 'single' in pl2.lower():\n",
        "        p = p0 * numpy.exp(2j * RM * x) * numpy.exp(2j * PA )\n",
        "    elif 'two' in pl2.lower():\n",
        "        p = p0 * numpy.exp(2j * RM * x) + p0 * numpy.exp(2j * RM1 *  x) * numpy.exp(2j * PA)\n",
        "\n",
        "    return x, p\n"
      ],
      "execution_count": null,
      "outputs": []
    },
    {
      "cell_type": "code",
      "metadata": {
        "id": "IZnTQDkSOb1Q",
        "colab_type": "code",
        "colab": {}
      },
      "source": [
        "#@title Parameters to use for the model\n",
        "#@markdown select parameters and run to display simulated complex polarised intensity\n",
        "\n",
        "#@markdown rotation measure, rad/m^2\n",
        "RM = 0 #@param {type:\"number\"}\n",
        "#@markdown gradient rad m^2\n",
        "DRM = 500 #@param {type:\"number\"}\n",
        "#@markdown position angle factor (pi/fp)\n",
        "fp = 12.0 #@param {type:\"number\"}\n",
        "PA = numpy.pi/fp # position angle\n",
        "#@markdown ???\n",
        "p0 = 0.5 #@param {type:\"number\"}\n",
        "#@markdown ???\n",
        "RM1 = 500 #@param {type:\"number\"}\n",
        "\n",
        "#@markdown complex polarised surface brightness (???)\n",
        "pl2 = \"slab\" #@param [\"slab\", \"single component\", \"two component\"]\n",
        "x, p = p_lambda2(pl2)\n",
        "plot_complex(p, show_legend=True)\n",
        "pylab.show()"
      ],
      "execution_count": null,
      "outputs": []
    },
    {
      "cell_type": "code",
      "metadata": {
        "id": "00_thFn2pRzv",
        "colab_type": "code",
        "colab": {}
      },
      "source": [
        "def faraday_synthesis(x, pol, phi_range, lambda0=False):\n",
        "    f = numpy.zeros(len(phi_range), dtype=complex)\n",
        "\n",
        "    N = len(x)\n",
        "    xmean = x.mean()\n",
        "\n",
        "    for k, phi in enumerate(phi_range):\n",
        "        if lambda0:\n",
        "            f[k] = numpy.sum(pol * numpy.exp(-2j * phi * (x-xmean) ))/N\n",
        "        else:\n",
        "            f[k] = numpy.sum(pol * numpy.exp(-2j * phi * x ))/N\n",
        "                    \n",
        "    return f"
      ],
      "execution_count": null,
      "outputs": []
    },
    {
      "cell_type": "code",
      "metadata": {
        "id": "Fi7nVdl3obp8",
        "colab_type": "code",
        "colab": {}
      },
      "source": [
        "# define Faraday depth range\n",
        "phi_range = numpy.arange(-10000, 10010, 10)\n",
        "\n",
        "f = faraday_synthesis(x,  # wavelength: wavelength squared.\n",
        "                      p,\n",
        "                      phi_range,  # Faraday depth range\n",
        "                      lambda0=False)\n",
        "\n",
        "fig, axs = pylab.subplots(nrows=1, ncols=2, figsize=(17, 4), facecolor='white')\n",
        "plot_complex(f, axs[0])\n",
        "plot_complex(numpy.fft.fftshift(numpy.fft.fft(f)), axs[1])\n",
        "pylab.show()"
      ],
      "execution_count": null,
      "outputs": []
    },
    {
      "cell_type": "code",
      "metadata": {
        "id": "6XeREQwf0OYD",
        "colab_type": "code",
        "colab": {}
      },
      "source": [
        "def plot_rmclean(phi_range, F, rmtf, rmsf, clean_components):\n",
        "    fig, ((ax1, ax2), (ax3, ax4)) = pylab.subplots(2, 2, figsize=(15, 15), facecolor='white')\n",
        "\n",
        "    ax1.plot(phi_range, abs(F), 'g-', label='amp', lw=1)\n",
        "    ax1.plot(phi_range, F.real, 'r-', label='real', lw=1)\n",
        "    ax1.plot(phi_range, F.imag, 'b-', label='imag', lw=1)\n",
        "    ax1.plot(phi_range, abs(rmsf), 'k-', label='amp', lw=1)\n",
        "    ax1.set_xlabel('Faraday depth [rad m$^2$]')\n",
        "    ax1.set_ylabel('Dirty')\n",
        "    ax1.legend(loc='best')\n",
        "    ax1.set_xlim(-1500, 1500)\n",
        "\n",
        "    ax2.plot(phi_range, abs(rmsf), 'g-', label='amp', lw=1)\n",
        "    ax2.plot(phi_range, rmsf.real, 'r-', label='real', lw=1)\n",
        "    ax2.plot(phi_range, rmsf.imag, 'b-.', label='imag', lw=1)\n",
        "    ax2.set_xlabel('Faraday depth [rad m$^2$]')\n",
        "    ax2.set_ylabel('RMSF')\n",
        "    ax2.legend(loc='best')\n",
        "    ax2.set_xlim(-1500, 1500)\n",
        "\n",
        "    ax3.plot(phi_range, abs(clean_components), 'g*', label='amp', lw=1)\n",
        "    ax3.plot(phi_range, clean_components.real, 'r^', label='real', lw=1)\n",
        "    ax3.plot(phi_range, clean_components.imag, 'bv', label='imag', lw=1)\n",
        "    ax3.set_xlabel('Faraday depth [rad m$^2$]')\n",
        "    ax3.set_ylabel('Model')\n",
        "    ax3.legend(loc='best')\n",
        "    ax3.set_xlim(-1500, 1500)\n",
        "\n",
        "    ax4.plot(phi_range, abs(rmtf), 'g-', label='amp', lw=1)\n",
        "    ax4.plot(phi_range, rmtf.real, 'r-', label='real', lw=1)\n",
        "    ax4.plot(phi_range, rmtf.imag, 'b-.', label='imag', lw=1)\n",
        "    ax4.set_xlabel('Faraday depth [rad m$^2$]')\n",
        "    ax4.set_ylabel('RMTF')\n",
        "    ax4.legend(loc='best')\n",
        "    ax4.set_xlim(-1500, 1500)"
      ],
      "execution_count": null,
      "outputs": []
    },
    {
      "cell_type": "code",
      "metadata": {
        "id": "cwtxqjAc8E_q",
        "colab_type": "code",
        "colab": {}
      },
      "source": [
        "# width defines bar width\n",
        "# percent defines current percentage\n",
        "def progress(niter, width, percent):\n",
        "    marks = math.floor(width * (percent / 100.0))\n",
        "    spaces = math.floor(width - marks)\n",
        "\n",
        "    loader = '[' + ('=' * int(marks)) + (' ' * int(spaces)) + ']'\n",
        "\n",
        "    msg = \"%d %s %d%% iterations used\" % (niter, loader, percent)\n",
        "    print(f'\\r {msg}', end=\"\", flush=True)\n",
        "\n",
        "    if percent >= 100:\n",
        "        print(\"\\n\")"
      ],
      "execution_count": null,
      "outputs": []
    },
    {
      "cell_type": "code",
      "metadata": {
        "id": "ATvQ--DxrOP2",
        "colab_type": "code",
        "colab": {}
      },
      "source": [
        "# rmclean(phi_range, f, x, gain=0.1, numiter=500, threshold=1e-3)\n",
        "def rmclean(phi_range, F, wavelength, gain=0.1, \n",
        "            numiter=2, threshold=None, lambda0=False, verbose=False):\n",
        "\n",
        "\n",
        "    \"\"\"\n",
        "    phi_range: Faraday depths. Lengths should be equal to pol.\n",
        "    pol : the faraday spectrum (for single pol?)\n",
        "    wavelength: wavelength squared.\n",
        "    gain: the gain factor for cleaning.\n",
        "    numiter: the number of iterations during looping.\n",
        "    threshold:  not in use yet.\n",
        "   \n",
        "    Pseudo code:\n",
        "    1. locate the maximum of pol.\n",
        "       Store the index, Faraday depth max and amplitude max\n",
        "    2. define a component = amplitude of max * gain\n",
        "    3. Scale the RMTF (RMSF) by step 2, and shift to Faraday depth max\n",
        "    4. Substract 3 from the original pol.\n",
        "    5. Replace the original pol with the residual, and loop for numinter.\n",
        "    6. Determine the ideal beam.\n",
        "    7. Convolve the results from 5 with 6. Return this.\n",
        "    \"\"\"\n",
        "\n",
        "    # create clean component list\n",
        "    clean_components =  numpy.zeros([len(phi_range)], dtype=complex)\n",
        "\n",
        "    # iterative identification of clean components\n",
        "    for niter in range(numiter):\n",
        "        clean_temp = numpy.zeros(len(phi_range), dtype=complex)\n",
        "        # locate the maximum of pol.\n",
        "        Famp = numpy.absolute(F)\n",
        "        peak = Famp.max()\n",
        "        if threshold is not None and peak < threshold:\n",
        "            break\n",
        "        # Store the index, Faraday depth max and amplitude max\n",
        "        ind = numpy.where(Famp == peak)[0]\n",
        "        phi_component = phi_range[ind[0]]  # Faraday depth\n",
        "\n",
        "        if verbose:\n",
        "            print(f\"Iter {niter} component at {ind[0]}, phi {phi_component}, amp {peak}\")\n",
        "        else:\n",
        "            progress(niter+1, 50, (float(niter+1)/float(numiter))*100)\n",
        "\n",
        "        # define a component = amplitude of max * gain\n",
        "        component =  F[ind[0]] * gain\n",
        "        clean_temp[ind[0]] = component\n",
        "\n",
        "        # Scale the RMTF (RMSF), and shift to Faraday depth max\n",
        "        rmtf = faraday_synthesis(wavelength,\n",
        "                                 numpy.ones(len(wavelength)),\n",
        "                                 phi_range - phi_component,  # shift to Faraday depth max\n",
        "                                 lambda0=lambda0)\n",
        "        rmsf = component*rmtf  # scale rmsf\n",
        "\n",
        "        if verbose:\n",
        "            plot_rmclean(phi_range, F, rmtf, rmsf, clean_components)\n",
        "            pylab.show()\n",
        "            fig.clear()\n",
        "\n",
        "        # Substract rmsf from the original pol.\n",
        "        # Replace the original pol with the residual\n",
        "        F = F - rmsf\n",
        "        clean_components += clean_temp\n",
        "\n",
        "    # Determine the ideal beam.\n",
        "    Fresidual = F\n",
        "    fwhm = (3.8/ (wavelength[0]-wavelength[-1]))\n",
        "    sigma = (fwhm/2.35482)\n",
        "    Gauss = numpy.exp(-0.5 * (phi_range/sigma)**2) \n",
        " \n",
        "    # Convolve the cleaned image with the ideal beam (add back the residual)\n",
        "    fclean = signal.convolve(clean_components, Gauss, mode='same') + Fresidual\n",
        "    return fclean, Fresidual, clean_components\n",
        "\n",
        "#fclean, fres, fcomp = rmclean(phi_range, f, x, gain=0.1, numiter=0, threshold=1e-3, verbose=True)\n",
        "#fclean, fres, fcomp = rmclean(phi_range, f, x, gain=0.1, numiter=1, threshold=1e-3, verbose=True)"
      ],
      "execution_count": null,
      "outputs": []
    },
    {
      "cell_type": "code",
      "metadata": {
        "id": "ygIAOD4hObNC",
        "colab_type": "code",
        "colab": {}
      },
      "source": [
        "fclean, fres, fcomp = rmclean(phi_range, f, x, gain=0.1, numiter=500, threshold=1e-3)"
      ],
      "execution_count": null,
      "outputs": []
    },
    {
      "cell_type": "code",
      "metadata": {
        "id": "V03uPYEzrMiH",
        "colab_type": "code",
        "colab": {}
      },
      "source": [
        "flambda0 = faraday_synthesis(x, p, phi_range, lambda0=True)\n",
        "fcleanlambda0, fres, fcomp = rmclean(phi_range, flambda0, x, gain=0.1, numiter=500, lambda0=True, threshold=1e-3)"
      ],
      "execution_count": null,
      "outputs": []
    },
    {
      "cell_type": "code",
      "metadata": {
        "id": "3Z0-Kp_orLS9",
        "colab_type": "code",
        "colab": {}
      },
      "source": [
        "fig, ((ax1, ax2), (ax3, ax4)) = pylab.subplots(2, 2, figsize=(15, 15), facecolor='white')\n",
        "\n",
        "ax1.set_title('No $\\lambda_0$')\n",
        "ax1.plot(phi_range, numpy.absolute(f), 'k-', label='amp', lw=1)\n",
        "ax1.plot(phi_range, f.real, 'k--', label='real', lw=1)\n",
        "ax1.plot(phi_range, f.imag, 'k-.', label='imag', lw=1)\n",
        "ax1.set_xlabel('Faraday depth [rad m$^2$]')\n",
        "ax1.set_ylabel('Faraday Spectrum')\n",
        "ax1.legend(loc='best')\n",
        "ax1.set_xlim(-1500, 1500)\n",
        "\n",
        "ax3.plot(phi_range, numpy.absolute(fclean), 'k-', label='amp', lw=1)\n",
        "ax3.plot(phi_range, fclean.real, 'k--', label='real', lw=1)\n",
        "ax3.plot(phi_range, fclean.imag, 'k-.', label='imag', lw=1)\n",
        "ax3.set_xlabel('Faraday depth [rad m$^2$]')\n",
        "ax3.set_ylabel('Faraday Spectrum')\n",
        "ax3.legend(loc='best')\n",
        "ax3.set_xlim(-1500, 1500)\n",
        "\n",
        "\n",
        "ax2.set_title('With $\\lambda_0$')\n",
        "ax2.plot(phi_range, numpy.absolute(flambda0), 'k-', label='amp', lw=1)\n",
        "ax2.plot(phi_range, flambda0.real, 'k--', label='real', lw=1)\n",
        "ax2.plot(phi_range, flambda0.imag, 'k-.', label='imag', lw=1)\n",
        "ax2.set_xlabel('Faraday depth [rad m$^2$]')\n",
        "ax2.set_ylabel('Faraday Spectrum')\n",
        "ax2.legend(loc='best')\n",
        "ax2.set_xlim(-1500, 1500)\n",
        "\n",
        "ax4.plot(phi_range, numpy.absolute(fcleanlambda0), 'k-', label='amp', lw=1)\n",
        "ax4.plot(phi_range, fcleanlambda0.real, 'k--', label='real', lw=1)\n",
        "ax4.plot(phi_range, fcleanlambda0.imag, 'k-.', label='imag', lw=1)\n",
        "ax4.set_xlabel('Faraday depth [rad m$^2$]')\n",
        "ax4.set_ylabel('Faraday Spectrum')\n",
        "ax4.legend(loc='best')\n",
        "ax4.set_xlim(-1500, 1500)\n",
        "\n",
        "pylab.show()"
      ],
      "execution_count": null,
      "outputs": []
    },
    {
      "cell_type": "code",
      "metadata": {
        "id": "FsHiIEGGrib6",
        "colab_type": "code",
        "colab": {}
      },
      "source": [
        ""
      ],
      "execution_count": null,
      "outputs": []
    }
  ]
}